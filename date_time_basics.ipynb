{
 "metadata": {
  "language_info": {
   "codemirror_mode": {
    "name": "ipython",
    "version": 3
   },
   "file_extension": ".py",
   "mimetype": "text/x-python",
   "name": "python",
   "nbconvert_exporter": "python",
   "pygments_lexer": "ipython3",
   "version": "3.6.6-final"
  },
  "orig_nbformat": 2,
  "kernelspec": {
   "name": "Python 3.6.6 64-bit ('learn-env': conda)",
   "display_name": "Python 3.6.6 64-bit ('learn-env': conda)",
   "metadata": {
    "interpreter": {
     "hash": "b9630d5e2ab3b0a71086734c5496348dcf699cc0359da5160f16a256dcc49ceb"
    }
   }
  }
 },
 "nbformat": 4,
 "nbformat_minor": 2,
 "cells": [
  {
   "source": [
    "# DATE AND TIME BASICS"
   ],
   "cell_type": "markdown",
   "metadata": {}
  },
  {
   "cell_type": "code",
   "execution_count": 1,
   "metadata": {},
   "outputs": [],
   "source": [
    "# Import modules\n",
    "from datetime import datetime\n",
    "from datetime import timedelta"
   ]
  },
  {
   "cell_type": "code",
   "execution_count": 2,
   "metadata": {},
   "outputs": [
    {
     "output_type": "execute_result",
     "data": {
      "text/plain": "datetime.datetime(2020, 10, 1, 21, 48, 36, 859068)"
     },
     "metadata": {},
     "execution_count": 2
    }
   ],
   "source": [
    "# Create a variable with the current time\n",
    "now = datetime.now()\n",
    "now"
   ]
  },
  {
   "cell_type": "code",
   "execution_count": 10,
   "metadata": {
    "tags": []
   },
   "outputs": [
    {
     "output_type": "stream",
     "name": "stdout",
     "text": "2020\n10\n1\n21\n48\n"
    }
   ],
   "source": [
    "# The current year\n",
    "print(now.year)\n",
    "# The current month\n",
    "print(now.month)\n",
    "# The current day\n",
    "print(now.day)\n",
    "# The current hour\n",
    "print(now.hour)\n",
    "# The current minute\n",
    "print(now.minute)\n"
   ]
  },
  {
   "cell_type": "code",
   "execution_count": 4,
   "metadata": {},
   "outputs": [
    {
     "output_type": "execute_result",
     "data": {
      "text/plain": "datetime.timedelta(-3620)"
     },
     "metadata": {},
     "execution_count": 4
    }
   ],
   "source": [
    "# The difference between two dates\n",
    "delta = datetime(2011, 2, 2) - datetime(2020, 12, 31)\n",
    "delta"
   ]
  },
  {
   "cell_type": "code",
   "execution_count": 5,
   "metadata": {},
   "outputs": [
    {
     "output_type": "execute_result",
     "data": {
      "text/plain": "-3620"
     },
     "metadata": {},
     "execution_count": 5
    }
   ],
   "source": [
    "# The difference days\n",
    "delta.days"
   ]
  },
  {
   "cell_type": "code",
   "execution_count": 8,
   "metadata": {},
   "outputs": [
    {
     "output_type": "execute_result",
     "data": {
      "text/plain": "datetime.datetime(2020, 8, 29, 0, 0)"
     },
     "metadata": {},
     "execution_count": 8
    }
   ],
   "source": [
    "# Create a time\n",
    "graduate = datetime(2020, 5, 1)\n",
    "# Add 120 days to the time\n",
    "graduate + timedelta(120)"
   ]
  }
 ]
}
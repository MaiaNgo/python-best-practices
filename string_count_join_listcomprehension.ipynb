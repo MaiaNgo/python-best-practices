{
 "metadata": {
  "language_info": {
   "codemirror_mode": {
    "name": "ipython",
    "version": 3
   },
   "file_extension": ".py",
   "mimetype": "text/x-python",
   "name": "python",
   "nbconvert_exporter": "python",
   "pygments_lexer": "ipython3",
   "version": "3.6.6-final"
  },
  "orig_nbformat": 2,
  "kernelspec": {
   "name": "Python 3.6.6 64-bit ('learn-env': conda)",
   "display_name": "Python 3.6.6 64-bit ('learn-env': conda)",
   "metadata": {
    "interpreter": {
     "hash": "b9630d5e2ab3b0a71086734c5496348dcf699cc0359da5160f16a256dcc49ceb"
    }
   }
  }
 },
 "nbformat": 4,
 "nbformat_minor": 2,
 "cells": [
  {
   "source": [
    "# STRING COUNT, JOIN & LIST COMPREHENSION\n",
    "\n",
    "##### The goal of this exercise is to convert a string to a new string where each character in the new string is \"(\" if that character appears only once in the original string, or \")\" if that character appears more than once in the original string. Ignore capitalization when determining if a character is a duplicate.\n",
    "\n",
    "Example:\n",
    "\n",
    "\"din\"      =>  \"(((\"\n",
    "\n",
    "\"recede\"   =>  \"()()()\"\n",
    "\n",
    "\"Success\"  =>  \")())())\"\n",
    "\n",
    "\"(( @\"     =>  \"))((\" \n",
    "\n",
    "\n"
   ],
   "cell_type": "markdown",
   "metadata": {}
  },
  {
   "cell_type": "code",
   "execution_count": 45,
   "metadata": {},
   "outputs": [],
   "source": [
    "def duplicate_encode(word):\n",
    "    '''\n",
    "    The goal of this exercise is to convert a string to a new string where each character in the new string is \"(\" if that character appears only once in the original string, or \")\" if that character appears more than once in the original string. Ignore capitalization when determining if a character is a duplicate.\n",
    "    '''\n",
    "    print (\"word\" + word) "
   ]
  },
  {
   "cell_type": "code",
   "execution_count": 46,
   "metadata": {},
   "outputs": [],
   "source": [
    "def duplicate_encode(word):\n",
    "    '''\n",
    "    The goal of this exercise is to convert a string to a new string where each character in the new string is \"(\" if that character appears only once in the original string, or \")\" if that character appears more than once in the original string. Ignore capitalization when determining if a character is a duplicate.\n",
    "    '''\n",
    "    result = ''\n",
    "    for char in word:\n",
    "        count = 0\n",
    "        for char0 in word:\n",
    "            if char0 == char:\n",
    "                count += 1\n",
    "        if count == 1:\n",
    "            result += '('\n",
    "        else:\n",
    "            result += ')'\n",
    "\n",
    "    return result"
   ]
  },
  {
   "cell_type": "code",
   "execution_count": 47,
   "metadata": {},
   "outputs": [],
   "source": [
    "def duplicate_encode(word):\n",
    "    result = ''\n",
    "    for char in word:\n",
    "        count = word.count(char)\n",
    "        if count == 1:\n",
    "            result += '('\n",
    "        else:\n",
    "            result += ')'\n",
    "\n",
    "    return result"
   ]
  },
  {
   "cell_type": "code",
   "execution_count": 48,
   "metadata": {},
   "outputs": [],
   "source": [
    "def duplicate_encode(word):\n",
    "    result = ''\n",
    "    for char in word:\n",
    "        if word.count(char) <= 1:\n",
    "            result += '('\n",
    "        else:\n",
    "            result += ')'\n",
    "\n",
    "    return result"
   ]
  },
  {
   "cell_type": "code",
   "execution_count": 49,
   "metadata": {},
   "outputs": [],
   "source": [
    "def duplicate_encode(word):\n",
    "    result = ['(' if word.count(char) <= 1 else ')' for char in word]\n",
    "    return str(result)"
   ]
  },
  {
   "cell_type": "code",
   "execution_count": 50,
   "metadata": {},
   "outputs": [],
   "source": [
    "def duplicate_encode(word):\n",
    "    result = ''.join(['(' if word.count(char) <= 1 else ')' for char in word])\n",
    "    return result"
   ]
  },
  {
   "cell_type": "code",
   "execution_count": 51,
   "metadata": {},
   "outputs": [],
   "source": [
    "def duplicate_encode(word):\n",
    "    return ''.join(['(' if word.count(char) <= 1 else ')' for char in word])"
   ]
  },
  {
   "cell_type": "code",
   "execution_count": 52,
   "metadata": {},
   "outputs": [],
   "source": [
    "def duplicate_encode(word):\n",
    "    '''\n",
    "    The goal of this exercise is to convert a string to a new string where each character in the new string is \"(\" if that character appears only once in the original string, or \")\" if that character appears more than once in the original string. Ignore capitalization when determining if a character is a duplicate.\n",
    "    '''\n",
    "    return ''.join(['(' if word.lower().count(char) <= 1 else ')' for char in word.lower()])"
   ]
  },
  {
   "cell_type": "code",
   "execution_count": 53,
   "metadata": {
    "tags": []
   },
   "outputs": [
    {
     "output_type": "stream",
     "name": "stdout",
     "text": ")))))))))))((())())\n"
    }
   ],
   "source": [
    "print(duplicate_encode('abcdaABsdastreCGfdg'))"
   ]
  },
  {
   "cell_type": "code",
   "execution_count": null,
   "metadata": {},
   "outputs": [],
   "source": []
  }
 ]
}
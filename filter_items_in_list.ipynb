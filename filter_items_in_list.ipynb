{
 "metadata": {
  "language_info": {
   "codemirror_mode": {
    "name": "ipython",
    "version": 3
   },
   "file_extension": ".py",
   "mimetype": "text/x-python",
   "name": "python",
   "nbconvert_exporter": "python",
   "pygments_lexer": "ipython3",
   "version": "3.6.6-final"
  },
  "orig_nbformat": 2,
  "kernelspec": {
   "name": "Python 3.6.6 64-bit ('learn-env': conda)",
   "display_name": "Python 3.6.6 64-bit ('learn-env': conda)",
   "metadata": {
    "interpreter": {
     "hash": "b9630d5e2ab3b0a71086734c5496348dcf699cc0359da5160f16a256dcc49ceb"
    }
   }
  }
 },
 "nbformat": 4,
 "nbformat_minor": 2,
 "cells": [
  {
   "source": [
    "# SELECTING ITEMS IN A LIST WITH CONDITIONS"
   ],
   "cell_type": "markdown",
   "metadata": {}
  },
  {
   "cell_type": "code",
   "execution_count": 22,
   "metadata": {},
   "outputs": [
    {
     "output_type": "execute_result",
     "data": {
      "text/plain": "[2345,\n 6789,\n 2135,\n 3226,\n 4932,\n 5735,\n 3824,\n 7963,\n 8540,\n 6212,\n 4832,\n 7856,\n 6318,\n 6424,\n 3412,\n 1257,\n 1863,\n 1925,\n 2142]"
     },
     "metadata": {},
     "execution_count": 22
    }
   ],
   "source": [
    "# Create an list of items denoting the number of each product\n",
    "products = [2345, 6789, 2135, 3226, 4932, 5735, 3824, 7963, 8540, 6212, 4832, 7856, 6318, 6424,3412,1257, 1863, 1925, 2142]\n",
    "products"
   ]
  },
  {
   "source": [
    "### One liner code:"
   ],
   "cell_type": "markdown",
   "metadata": {}
  },
  {
   "cell_type": "code",
   "execution_count": 23,
   "metadata": {},
   "outputs": [
    {
     "output_type": "execute_result",
     "data": {
      "text/plain": "[2345, 2135, 1257, 1863, 1925, 2142]"
     },
     "metadata": {},
     "execution_count": 23
    }
   ],
   "source": [
    "# Create a list called 'low' that filters products has value smaller than 3000\n",
    "# using the lambda function - looks for all items have value under 3000).\n",
    "low = list(filter((lambda x: x < 3000), products)); low"
   ]
  },
  {
   "source": [
    "### Break down into multi-line method"
   ],
   "cell_type": "markdown",
   "metadata": {}
  },
  {
   "cell_type": "code",
   "execution_count": 24,
   "metadata": {},
   "outputs": [
    {
     "output_type": "execute_result",
     "data": {
      "text/plain": "[2345, 2135, 1257, 1863, 1925, 2142]"
     },
     "metadata": {},
     "execution_count": 24
    }
   ],
   "source": [
    "# Create a lambda function that looks for value smaller than 3000\n",
    "low_condition = lambda x: x < 3000\n",
    "# Filter products by the lambda function\n",
    "low_group = filter(low_condition, products)\n",
    "# Convert the filter results into a list\n",
    "low_value = list(low_group)\n",
    "low_value"
   ]
  },
  {
   "source": [
    "### For Loop Equivalent: Create a For Loop Function to iterate through a list and looks for value smaller than 3000"
   ],
   "cell_type": "markdown",
   "metadata": {}
  },
  {
   "cell_type": "code",
   "execution_count": 25,
   "metadata": {},
   "outputs": [
    {
     "output_type": "execute_result",
     "data": {
      "text/plain": "[2345, 2135, 1257, 1863, 1925, 2142]"
     },
     "metadata": {},
     "execution_count": 25
    }
   ],
   "source": [
    "# Create a variable for the results of the loop\n",
    "low_value_products = []\n",
    "\n",
    "# for each item in products,\n",
    "for i in products:\n",
    "    # check if the value is less than 3000\n",
    "    if i < 3000:\n",
    "        # if true, add that item to low_value_products\n",
    "        low_value_products.append(i)\n",
    "\n",
    "low_value_products"
   ]
  }
 ]
}
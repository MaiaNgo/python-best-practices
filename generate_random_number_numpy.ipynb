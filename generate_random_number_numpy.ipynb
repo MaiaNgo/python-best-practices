{
 "metadata": {
  "language_info": {
   "codemirror_mode": {
    "name": "ipython",
    "version": 3
   },
   "file_extension": ".py",
   "mimetype": "text/x-python",
   "name": "python",
   "nbconvert_exporter": "python",
   "pygments_lexer": "ipython3",
   "version": "3.6.6-final"
  },
  "orig_nbformat": 2,
  "kernelspec": {
   "name": "Python 3.6.6 64-bit ('learn-env': conda)",
   "display_name": "Python 3.6.6 64-bit ('learn-env': conda)",
   "metadata": {
    "interpreter": {
     "hash": "b9630d5e2ab3b0a71086734c5496348dcf699cc0359da5160f16a256dcc49ceb"
    }
   }
  }
 },
 "nbformat": 4,
 "nbformat_minor": 2,
 "cells": [
  {
   "source": [
    "# GENERATING RANDOM NUMBERS WITH NumPy"
   ],
   "cell_type": "markdown",
   "metadata": {}
  },
  {
   "cell_type": "code",
   "execution_count": 3,
   "metadata": {},
   "outputs": [],
   "source": [
    "# Import needed packages:\n",
    "import numpy as np"
   ]
  },
  {
   "cell_type": "code",
   "execution_count": 4,
   "metadata": {},
   "outputs": [
    {
     "output_type": "execute_result",
     "data": {
      "text/plain": "0.3384979507413384"
     },
     "metadata": {},
     "execution_count": 4
    }
   ],
   "source": [
    "# Generate a random number from the normal distribution:\n",
    "np.random.normal()"
   ]
  },
  {
   "cell_type": "code",
   "execution_count": 5,
   "metadata": {},
   "outputs": [
    {
     "output_type": "execute_result",
     "data": {
      "text/plain": "array([ 0.5777366 , -0.36413627, -0.31910044,  0.69283832, -0.4559127 ])"
     },
     "metadata": {},
     "execution_count": 5
    }
   ],
   "source": [
    "# Generate 5 random numbers from the nomal distribution:\n",
    "np.random.normal(size=5)\n"
   ]
  },
  {
   "cell_type": "code",
   "execution_count": 6,
   "metadata": {},
   "outputs": [
    {
     "output_type": "execute_result",
     "data": {
      "text/plain": "array([0.8013052 , 0.53913396, 0.67889184])"
     },
     "metadata": {},
     "execution_count": 6
    }
   ],
   "source": [
    "# Generate 3 random numbers from the uniform distribution:\n",
    "np.random.uniform(size= 3)"
   ]
  },
  {
   "cell_type": "code",
   "execution_count": 8,
   "metadata": {},
   "outputs": [
    {
     "output_type": "execute_result",
     "data": {
      "text/plain": "array([791, 379, 703, 530])"
     },
     "metadata": {},
     "execution_count": 8
    }
   ],
   "source": [
    "# Generate 4 random integers between 100 and 1000\n",
    "np.random.randint(low=150, high=850, size=4)"
   ]
  },
  {
   "cell_type": "code",
   "execution_count": 9,
   "metadata": {},
   "outputs": [
    {
     "output_type": "execute_result",
     "data": {
      "text/plain": "array([673, 299, 472, 328])"
     },
     "metadata": {},
     "execution_count": 9
    }
   ],
   "source": [
    "# Generate 4 random integers between 100 and 1000\n",
    "np.random.randint(low=150, high=850, size=4)"
   ]
  },
  {
   "cell_type": "code",
   "execution_count": 10,
   "metadata": {},
   "outputs": [
    {
     "output_type": "execute_result",
     "data": {
      "text/plain": "array([827, 839, 364, 797])"
     },
     "metadata": {},
     "execution_count": 10
    }
   ],
   "source": [
    "# Generate 4 random integers between 100 and 1000\n",
    "np.random.randint(low=150, high=850, size=4)"
   ]
  },
  {
   "cell_type": "code",
   "execution_count": null,
   "metadata": {},
   "outputs": [],
   "source": []
  }
 ]
}
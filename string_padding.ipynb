{
 "metadata": {
  "language_info": {
   "codemirror_mode": {
    "name": "ipython",
    "version": 3
   },
   "file_extension": ".py",
   "mimetype": "text/x-python",
   "name": "python",
   "nbconvert_exporter": "python",
   "pygments_lexer": "ipython3",
   "version": "3.6.6-final"
  },
  "orig_nbformat": 2,
  "kernelspec": {
   "name": "python3",
   "display_name": "Python 3"
  }
 },
 "nbformat": 4,
 "nbformat_minor": 2,
 "cells": [
  {
   "source": [
    "# String padding using format function"
   ],
   "cell_type": "markdown",
   "metadata": {}
  },
  {
   "source": [
    "## Purpose\n",
    "Many times, we need to pad spaces or any charactors to left, right or both sides of string to have a fixed-wide string.\n",
    "Python's format function can be very useful and simple to use for this case. "
   ],
   "cell_type": "markdown",
   "metadata": {}
  },
  {
   "cell_type": "code",
   "execution_count": 1,
   "metadata": {},
   "outputs": [
    {
     "output_type": "execute_result",
     "data": {
      "text/plain": "7"
     },
     "metadata": {},
     "execution_count": 1
    }
   ],
   "source": [
    "# We have a simple string 'Atlanta', we want it to be padded to have a fixed-size as 30 chars\n",
    "s = 'Atlanta'\n",
    "len(s)"
   ]
  },
  {
   "cell_type": "code",
   "execution_count": 5,
   "metadata": {
    "tags": []
   },
   "outputs": [
    {
     "output_type": "stream",
     "name": "stdout",
     "text": "[                       Atlanta]\n30\n"
    }
   ],
   "source": [
    "# pad to the left with spaces\n",
    "s1 = format(s, '>30')\n",
    "print(f'[{s1}]')\n",
    "print(len(s1))"
   ]
  },
  {
   "cell_type": "code",
   "execution_count": 6,
   "metadata": {
    "tags": []
   },
   "outputs": [
    {
     "output_type": "stream",
     "name": "stdout",
     "text": "[Atlanta                       ]\n30\n"
    }
   ],
   "source": [
    "# pad to the right with spaces\n",
    "s2 = format(s, '<30')\n",
    "print(f'[{s2}]')\n",
    "print(len(s2))"
   ]
  },
  {
   "cell_type": "code",
   "execution_count": 7,
   "metadata": {
    "tags": []
   },
   "outputs": [
    {
     "output_type": "stream",
     "name": "stdout",
     "text": "[           Atlanta            ]\n30\n"
    }
   ],
   "source": [
    "# pad both sides with spaces\n",
    "s3 = format(s, '^30')\n",
    "print(f'[{s3}]')\n",
    "print(len(s3))"
   ]
  },
  {
   "cell_type": "code",
   "execution_count": 8,
   "metadata": {
    "tags": []
   },
   "outputs": [
    {
     "output_type": "stream",
     "name": "stdout",
     "text": "[Atlanta-----------------------]\n30\n"
    }
   ],
   "source": [
    "# Actually, we can pad with any char, not only with space\n",
    "# pad the the right with hyphen (-)\n",
    "s4 = format(s, '-<30')\n",
    "print(f'[{s4}]')\n",
    "print(len(s4))"
   ]
  }
 ]
}
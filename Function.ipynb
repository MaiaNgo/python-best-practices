{
 "metadata": {
  "language_info": {
   "codemirror_mode": {
    "name": "ipython",
    "version": 3
   },
   "file_extension": ".py",
   "mimetype": "text/x-python",
   "name": "python",
   "nbconvert_exporter": "python",
   "pygments_lexer": "ipython3",
   "version": "3.6.6-final"
  },
  "orig_nbformat": 2,
  "kernelspec": {
   "name": "Python 3.6.6 64-bit ('learn-env': conda)",
   "display_name": "Python 3.6.6 64-bit ('learn-env': conda)",
   "metadata": {
    "interpreter": {
     "hash": "b9630d5e2ab3b0a71086734c5496348dcf699cc0359da5160f16a256dcc49ceb"
    }
   }
  }
 },
 "nbformat": 4,
 "nbformat_minor": 2,
 "cells": [
  {
   "cell_type": "code",
   "execution_count": null,
   "metadata": {},
   "outputs": [],
   "source": []
  },
  {
   "source": [
    "In a small town the population is p0 = 1000 at the beginning of a year. The population regularly increases by 2 percent per year and moreover 50 new inhabitants per year come to live in the town. How many years does the town need to see its population greater or equal to p = 1200 inhabitants?\n",
    "\n",
    "At the end of the first year there will be: \n",
    "1000 + 1000 * 0.02 + 50 => 1070 inhabitants\n",
    "\n",
    "At the end of the 2nd year there will be: \n",
    "1070 + 1070 * 0.02 + 50 => 1141 inhabitants (number of inhabitants is an integer)\n",
    "\n",
    "At the end of the 3rd year there will be:\n",
    "1141 + 1141 * 0.02 + 50 => 1213\n",
    "\n",
    "It will need 3 entire years.\n"
   ],
   "cell_type": "markdown",
   "metadata": {}
  },
  {
   "source": [
    "More generally given parameters:\n",
    "\n",
    "p0, percent, aug (inhabitants coming or leaving each year), p (population to surpass)\n",
    "\n",
    "the function nb_year should return n number of entire years needed to get a population greater or equal to p.\n",
    "\n",
    "aug is an integer, percent a positive or null number, p0 and p are positive integers (> 0)\n",
    "\n"
   ],
   "cell_type": "markdown",
   "metadata": {}
  },
  {
   "source": [
    "Examples:\n",
    "\n",
    "nb_year(1500, 5, 100, 5000) -> 15\n",
    "\n",
    "nb_year(1500000, 2.5, 10000, 2000000) -> 10\n"
   ],
   "cell_type": "markdown",
   "metadata": {}
  },
  {
   "cell_type": "code",
   "execution_count": 5,
   "metadata": {
    "tags": []
   },
   "outputs": [],
   "source": [
    "def nb_year(p0, percent, aug, p):\n",
    "    i = 0\n",
    "    pi = p0\n",
    "    while True:\n",
    "        i += 1\n",
    "        pi += pi * percent / 100 + aug\n",
    "        if pi >= p:\n",
    "            break\n",
    "    print ('It will need ' + str(i) + ' entire years')"
   ]
  },
  {
   "cell_type": "code",
   "execution_count": 6,
   "metadata": {
    "tags": []
   },
   "outputs": [
    {
     "output_type": "stream",
     "name": "stdout",
     "text": "It will need 15 entire years\n"
    }
   ],
   "source": [
    "nb_year(1500, 5, 100, 5000)"
   ]
  },
  {
   "cell_type": "code",
   "execution_count": 7,
   "metadata": {},
   "outputs": [],
   "source": [
    "def nb_year(p0, percent, aug, p):\n",
    "    y = 0\n",
    "    pn = p0\n",
    "    while pn < p:\n",
    "        y += 1\n",
    "        pn += pn * percent/100 + aug\n",
    "    return y\n",
    "\n"
   ]
  },
  {
   "cell_type": "code",
   "execution_count": 8,
   "metadata": {
    "tags": []
   },
   "outputs": [
    {
     "output_type": "execute_result",
     "data": {
      "text/plain": "15"
     },
     "metadata": {},
     "execution_count": 8
    }
   ],
   "source": [
    "nb_year(1500, 5, 100, 5000)"
   ]
  },
  {
   "cell_type": "code",
   "execution_count": null,
   "metadata": {},
   "outputs": [],
   "source": []
  }
 ]
}
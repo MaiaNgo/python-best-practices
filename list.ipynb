{
 "metadata": {
  "language_info": {
   "codemirror_mode": {
    "name": "ipython",
    "version": 3
   },
   "file_extension": ".py",
   "mimetype": "text/x-python",
   "name": "python",
   "nbconvert_exporter": "python",
   "pygments_lexer": "ipython3",
   "version": "3.6.9-final"
  },
  "orig_nbformat": 2,
  "kernelspec": {
   "name": "Python 3.6.9 64-bit ('learn-env': conda)",
   "display_name": "Python 3.6.9 64-bit ('learn-env': conda)",
   "metadata": {
    "interpreter": {
     "hash": "7981d81b3924aa8f8737ad1f515d2c1560025393c5e8fb9a51b730ca6a994a8e"
    }
   }
  }
 },
 "nbformat": 4,
 "nbformat_minor": 2,
 "cells": [
  {
   "cell_type": "code",
   "execution_count": 17,
   "metadata": {},
   "outputs": [
    {
     "output_type": "stream",
     "name": "stdout",
     "text": [
      "['apple', 'pear', 'orange', 'banana']\n['coke', 'water', '7up', 'sprite', 'green tea']\n"
     ]
    }
   ],
   "source": [
    "# define a list\n",
    "fruits = ['apple', 'pear', 'orange', 'banana']\n",
    "drinks = ['coke', 'water', '7up', 'sprite', 'green tea']\n",
    "print(fruits)\n",
    "print(drinks)"
   ]
  },
  {
   "cell_type": "code",
   "execution_count": 9,
   "metadata": {},
   "outputs": [
    {
     "output_type": "stream",
     "name": "stdout",
     "text": [
      "['apple', 'pear', 'orange', 'banana', 'grape']\n['apple', 'pear', 'orange', 'banana', 'grape', 'coke', 'water', '7up', 'sprite', 'green tea']\n"
     ]
    }
   ],
   "source": [
    "# add an item to a list\n",
    "fruits.append('grape')\n",
    "print(fruits)\n",
    "\n",
    "# append a list to another list\n",
    "fruits.extend(drinks)\n",
    "print(fruits)"
   ]
  },
  {
   "cell_type": "code",
   "execution_count": 14,
   "metadata": {},
   "outputs": [
    {
     "output_type": "stream",
     "name": "stdout",
     "text": [
      "['apple', 'pear', 'orange', 'banana', 'strawberry']\n['apple', 'pear', 'orange', 'banana', 'strawberry', 'coke', 'water', '7up', 'sprite', 'green tea']\n"
     ]
    }
   ],
   "source": [
    "# we can even use math operator to append and extend\n",
    "fruits += ['strawberry']\n",
    "print(fruits)\n",
    "\n",
    "fruits += drinks\n",
    "print(fruits)"
   ]
  },
  {
   "cell_type": "code",
   "execution_count": 15,
   "metadata": {},
   "outputs": [
    {
     "output_type": "stream",
     "name": "stdout",
     "text": [
      "['7up', 'apple', 'banana', 'coke', 'green tea', 'orange', 'pear', 'sprite', 'strawberry', 'water']\n"
     ]
    }
   ],
   "source": [
    "# sort a list\n",
    "fruits.sort()\n",
    "print(fruits)"
   ]
  },
  {
   "cell_type": "code",
   "execution_count": 19,
   "metadata": {},
   "outputs": [
    {
     "output_type": "stream",
     "name": "stdout",
     "text": [
      "['apple', 'pear', 'orange', 'banana']\n['apple', 'banana', 'orange', 'pear']\n"
     ]
    }
   ],
   "source": [
    "# sort a list using sorted() function\n",
    "sorted_fruits = sorted(fruits)\n",
    "print(fruits)\n",
    "print(sorted_fruits)"
   ]
  },
  {
   "cell_type": "code",
   "execution_count": 20,
   "metadata": {},
   "outputs": [
    {
     "output_type": "stream",
     "name": "stdout",
     "text": [
      "['banana', 'orange', 'pear', 'apple']\n"
     ]
    }
   ],
   "source": [
    "# reverse order of items in a list\n",
    "fruits.reverse()\n",
    "print(fruits)"
   ]
  },
  {
   "cell_type": "code",
   "execution_count": null,
   "metadata": {},
   "outputs": [],
   "source": []
  }
 ]
}
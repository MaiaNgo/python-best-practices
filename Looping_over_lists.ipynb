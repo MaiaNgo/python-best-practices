{
 "metadata": {
  "language_info": {
   "codemirror_mode": {
    "name": "ipython",
    "version": 3
   },
   "file_extension": ".py",
   "mimetype": "text/x-python",
   "name": "python",
   "nbconvert_exporter": "python",
   "pygments_lexer": "ipython3",
   "version": "3.6.6-final"
  },
  "orig_nbformat": 2,
  "kernelspec": {
   "name": "Python 3.6.6 64-bit ('learn-env': conda)",
   "display_name": "Python 3.6.6 64-bit ('learn-env': conda)",
   "metadata": {
    "interpreter": {
     "hash": "b9630d5e2ab3b0a71086734c5496348dcf699cc0359da5160f16a256dcc49ceb"
    }
   }
  }
 },
 "nbformat": 4,
 "nbformat_minor": 2,
 "cells": [
  {
   "source": [
    "# LOOPING OVER LISTS"
   ],
   "cell_type": "markdown",
   "metadata": {}
  },
  {
   "source": [
    "### Create 3 lists:"
   ],
   "cell_type": "markdown",
   "metadata": {}
  },
  {
   "cell_type": "code",
   "execution_count": 7,
   "metadata": {},
   "outputs": [
    {
     "output_type": "execute_result",
     "data": {
      "text/plain": "[&#39;Avocado&#39;,\n &#39;Sweet Potato&#39;,\n &#39;Banana&#39;,\n &#39;Pumpkin&#39;,\n &#39;Butter Squash&#39;,\n &#39;Plantain&#39;,\n &#39;Mango&#39;,\n &#39;Pineapple&#39;]"
     },
     "metadata": {},
     "execution_count": 7
    }
   ],
   "source": [
    "products = ['Avocado', 'Sweet Potato', 'Banana', 'Pumpkin', 'Butter Squash', 'Plantain', 'Mango', 'Pineapple']; products"
   ]
  },
  {
   "cell_type": "code",
   "execution_count": 8,
   "metadata": {},
   "outputs": [
    {
     "output_type": "execute_result",
     "data": {
      "text/plain": "[&#39;315&#39;,\n &#39;294&#39;,\n &#39;1423&#39;,\n &#39;543&#39;,\n &#39;120&#39;,\n &#39;2314&#39;,\n &#39;673&#39;,\n &#39;872&#39;,\n &#39;3278&#39;,\n &#39;9432&#39;,\n &#39;1673&#39;]"
     },
     "metadata": {},
     "execution_count": 8
    }
   ],
   "source": [
    "units = ['315', '294', '1423', '543', '120', '2314', '673', '872', '3278', '9432', '1673']; units"
   ]
  },
  {
   "cell_type": "code",
   "execution_count": 9,
   "metadata": {},
   "outputs": [
    {
     "output_type": "execute_result",
     "data": {
      "text/plain": "[&#39;209&#39;, &#39;152&#39;, &#39;1017&#39;, &#39;274&#39;, &#39;95&#39;, &#39;1425&#39;, &#39;512&#39;, &#39;461&#39;]"
     },
     "metadata": {},
     "execution_count": 9
    }
   ],
   "source": [
    "sales = ['209', '152', '1017', '274', '95', '1425', '512', '461']; sales"
   ]
  },
  {
   "cell_type": "code",
   "execution_count": 21,
   "metadata": {
    "tags": []
   },
   "outputs": [
    {
     "output_type": "stream",
     "name": "stdout",
     "text": "             Avocado has the total number is:   315 with the number of sale is:   209\n        Sweet Potato has the total number is:   294 with the number of sale is:   152\n              Banana has the total number is:  1423 with the number of sale is:  1017\n             Pumpkin has the total number is:   543 with the number of sale is:   274\n       Butter Squash has the total number is:   120 with the number of sale is:    95\n            Plantain has the total number is:  2314 with the number of sale is:  1425\n               Mango has the total number is:   673 with the number of sale is:   512\n           Pineapple has the total number is:   872 with the number of sale is:   461\n"
    }
   ],
   "source": [
    "# Look up value for each element in the list of products by the corresponding index element in the list of units:\n",
    "for product, unit, sale in zip(products, units, sales):\n",
    "    #print(f\"[{format(product, '<20')}], 'has the total number is: ', unit, 'with the number of sale is', sale)\n",
    "    print(format(product, '>20'), 'has the total number is: ', format(unit, '>4'), 'with the number of sale is: ', format(sale, '>4'))\n",
    "\n"
   ]
  }
 ]
}
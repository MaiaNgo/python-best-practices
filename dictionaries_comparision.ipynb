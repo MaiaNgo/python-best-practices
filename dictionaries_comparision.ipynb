{
 "metadata": {
  "language_info": {
   "codemirror_mode": {
    "name": "ipython",
    "version": 3
   },
   "file_extension": ".py",
   "mimetype": "text/x-python",
   "name": "python",
   "nbconvert_exporter": "python",
   "pygments_lexer": "ipython3",
   "version": "3.7.3-final"
  },
  "orig_nbformat": 2,
  "kernelspec": {
   "name": "Python 3.7.3 64-bit ('base': conda)",
   "display_name": "Python 3.7.3 64-bit ('base': conda)",
   "metadata": {
    "interpreter": {
     "hash": "a6b91a149ac7559cc4a15b9c61243bb7d8b68bcd9390fd9ed606313d8028eb67"
    }
   }
  }
 },
 "nbformat": 4,
 "nbformat_minor": 2,
 "cells": [
  {
   "source": [
    "# COMPARE DICTIONARIES:\n"
   ],
   "cell_type": "markdown",
   "metadata": {}
  },
  {
   "source": [
    "### Create Dictionaries:"
   ],
   "cell_type": "markdown",
   "metadata": {}
  },
  {
   "cell_type": "code",
   "execution_count": 4,
   "metadata": {},
   "outputs": [],
   "source": [
    "products = {'Milk' : 785,\n",
    "             'Noodle' : 152,\n",
    "             'Salmon' : 378,\n",
    "             'Beer' : 467,\n",
    "             'Avocado': 2350\n",
    "            }\n",
    "\n",
    "sales = {'Purified Water' : 2294,\n",
    "             'Beef' : 152,\n",
    "             'Salmon' : 378,\n",
    "             'Chicken' : 459,\n",
    "             'Avocado': 2350\n",
    "             }"
   ]
  },
  {
   "source": [
    "### Find Duplicate Keys"
   ],
   "cell_type": "markdown",
   "metadata": {}
  },
  {
   "cell_type": "code",
   "execution_count": 5,
   "metadata": {},
   "outputs": [
    {
     "output_type": "execute_result",
     "data": {
      "text/plain": "{'Avocado', 'Salmon'}"
     },
     "metadata": {},
     "execution_count": 5
    }
   ],
   "source": [
    "\n",
    "# Find the intersection of importers and exporters\n",
    "products.keys() & sales.keys()"
   ]
  },
  {
   "source": [
    "### Find Difference In Keys"
   ],
   "cell_type": "markdown",
   "metadata": {}
  },
  {
   "cell_type": "code",
   "execution_count": 6,
   "metadata": {},
   "outputs": [
    {
     "output_type": "execute_result",
     "data": {
      "text/plain": "{'Beer', 'Milk', 'Noodle'}"
     },
     "metadata": {},
     "execution_count": 6
    }
   ],
   "source": [
    "products.keys() - sales.keys()"
   ]
  },
  {
   "source": [
    "### Find Key, Values Pairs In Common\n"
   ],
   "cell_type": "markdown",
   "metadata": {}
  },
  {
   "cell_type": "code",
   "execution_count": 7,
   "metadata": {},
   "outputs": [
    {
     "output_type": "execute_result",
     "data": {
      "text/plain": "{('Avocado', 2350), ('Salmon', 378)}"
     },
     "metadata": {},
     "execution_count": 7
    }
   ],
   "source": [
    "products.items() & sales.items()"
   ]
  },
  {
   "cell_type": "code",
   "execution_count": null,
   "metadata": {},
   "outputs": [],
   "source": []
  }
 ]
}
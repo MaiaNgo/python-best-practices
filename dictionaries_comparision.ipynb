{
 "metadata": {
  "language_info": {
   "codemirror_mode": {
    "name": "ipython",
    "version": 3
   },
   "file_extension": ".py",
   "mimetype": "text/x-python",
   "name": "python",
   "nbconvert_exporter": "python",
   "pygments_lexer": "ipython3",
   "version": "3.6.6-final"
  },
  "orig_nbformat": 2,
  "kernelspec": {
   "name": "Python 3.6.6 64-bit ('learn-env': conda)",
   "display_name": "Python 3.6.6 64-bit ('learn-env': conda)",
   "metadata": {
    "interpreter": {
     "hash": "b9630d5e2ab3b0a71086734c5496348dcf699cc0359da5160f16a256dcc49ceb"
    }
   }
  }
 },
 "nbformat": 4,
 "nbformat_minor": 2,
 "cells": [
  {
   "source": [
    "# COMPARE DICTIONARIES:\n"
   ],
   "cell_type": "markdown",
   "metadata": {}
  },
  {
   "source": [
    "### Create Dictionaries:"
   ],
   "cell_type": "markdown",
   "metadata": {}
  },
  {
   "cell_type": "code",
   "execution_count": 2,
   "metadata": {},
   "outputs": [],
   "source": [
    "products = {'Milk' : 785,\n",
    "             'Noodle' : 152,\n",
    "             'Salmon' : 378,\n",
    "             'Beer' : 467,\n",
    "             'Avocado': 2350\n",
    "            }\n",
    "\n",
    "sales = {'Purified Water' : 2294,\n",
    "             'Beef' : 152,\n",
    "             'Salmon' : 378,\n",
    "             'Chicken' : 459,\n",
    "             'Avocado': 2350\n",
    "             }"
   ]
  },
  {
   "source": [
    "### Find Duplicate Keys"
   ],
   "cell_type": "markdown",
   "metadata": {}
  },
  {
   "cell_type": "code",
   "execution_count": 3,
   "metadata": {},
   "outputs": [
    {
     "output_type": "execute_result",
     "data": {
      "text/plain": "{&#39;Avocado&#39;, &#39;Salmon&#39;}"
     },
     "metadata": {},
     "execution_count": 3
    }
   ],
   "source": [
    "\n",
    "# Find the intersection of importers and exporters\n",
    "products.keys() & sales.keys()"
   ]
  },
  {
   "source": [
    "### Find Difference In Keys"
   ],
   "cell_type": "markdown",
   "metadata": {}
  },
  {
   "cell_type": "code",
   "execution_count": 4,
   "metadata": {},
   "outputs": [
    {
     "output_type": "execute_result",
     "data": {
      "text/plain": "{&#39;Beer&#39;, &#39;Milk&#39;, &#39;Noodle&#39;}"
     },
     "metadata": {},
     "execution_count": 4
    }
   ],
   "source": [
    "products.keys() - sales.keys()"
   ]
  },
  {
   "source": [
    "### Find Key, Values Pairs In Common\n"
   ],
   "cell_type": "markdown",
   "metadata": {}
  },
  {
   "cell_type": "code",
   "execution_count": 5,
   "metadata": {},
   "outputs": [
    {
     "output_type": "execute_result",
     "data": {
      "text/plain": "{(&#39;Avocado&#39;, 2350), (&#39;Salmon&#39;, 378)}"
     },
     "metadata": {},
     "execution_count": 5
    }
   ],
   "source": [
    "products.items() & sales.items()"
   ]
  },
  {
   "source": [
    "### Find the Max Value in a dictionary"
   ],
   "cell_type": "markdown",
   "metadata": {}
  },
  {
   "cell_type": "code",
   "execution_count": 6,
   "metadata": {},
   "outputs": [
    {
     "output_type": "execute_result",
     "data": {
      "text/plain": "(&#39;Salmon&#39;, 378)"
     },
     "metadata": {},
     "execution_count": 6
    }
   ],
   "source": [
    "max(zip(products.keys(), products.values()))"
   ]
  },
  {
   "source": [
    "### Find the Min Value in a dictionary"
   ],
   "cell_type": "markdown",
   "metadata": {}
  },
  {
   "cell_type": "code",
   "execution_count": 7,
   "metadata": {},
   "outputs": [
    {
     "output_type": "execute_result",
     "data": {
      "text/plain": "(&#39;Avocado&#39;, 2350)"
     },
     "metadata": {},
     "execution_count": 7
    }
   ],
   "source": [
    "min(zip(sales.keys(), sales.values()))"
   ]
  },
  {
   "source": [
    "### Iterating Over Dictionary Keys: Use Dictionary Comprehension\n",
    "\n"
   ],
   "cell_type": "markdown",
   "metadata": {}
  },
  {
   "cell_type": "code",
   "execution_count": 12,
   "metadata": {},
   "outputs": [
    {
     "output_type": "execute_result",
     "data": {
      "text/plain": "{&#39;Beef&#39;: 152, &#39;Salmon&#39;: 378, &#39;Chicken&#39;: 459}"
     },
     "metadata": {},
     "execution_count": 12
    }
   ],
   "source": [
    "# Display all dictionary entries where the key doesn't start with 'Purified Water' or 'Avocado'\n",
    "{keys : sales[keys] for keys in sales if not (keys.startswith('Purified Water') or keys.startswith('Avocado'))}\n"
   ]
  },
  {
   "cell_type": "code",
   "execution_count": null,
   "metadata": {},
   "outputs": [],
   "source": []
  }
 ]
}
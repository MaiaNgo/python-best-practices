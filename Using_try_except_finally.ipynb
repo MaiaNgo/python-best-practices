{
 "metadata": {
  "language_info": {
   "codemirror_mode": {
    "name": "ipython",
    "version": 3
   },
   "file_extension": ".py",
   "mimetype": "text/x-python",
   "name": "python",
   "nbconvert_exporter": "python",
   "pygments_lexer": "ipython3",
   "version": "3.6.6-final"
  },
  "orig_nbformat": 2,
  "kernelspec": {
   "name": "Python 3.6.6 64-bit ('learn-env': conda)",
   "display_name": "Python 3.6.6 64-bit ('learn-env': conda)",
   "metadata": {
    "interpreter": {
     "hash": "b9630d5e2ab3b0a71086734c5496348dcf699cc0359da5160f16a256dcc49ceb"
    }
   }
  }
 },
 "nbformat": 4,
 "nbformat_minor": 2,
 "cells": [
  {
   "source": [
    "# USING:     TRY, EXCEPT, & FINALLY"
   ],
   "cell_type": "markdown",
   "metadata": {}
  },
  {
   "cell_type": "code",
   "execution_count": 1,
   "metadata": {},
   "outputs": [],
   "source": [
    "### Create a list\n",
    "sales = [6212, 717, 8216, 9218, 4520, 7856, 4312]"
   ]
  },
  {
   "source": [
    "### TRY SOMETHING THAT DOESN'T WORK"
   ],
   "cell_type": "markdown",
   "metadata": {}
  },
  {
   "cell_type": "code",
   "execution_count": 7,
   "metadata": {
    "tags": []
   },
   "outputs": [
    {
     "output_type": "stream",
     "name": "stdout",
     "text": "Oh No! We have an Error: can only concatenate list (not &quot;str&quot;) to list\nEnd Program\n"
    }
   ],
   "source": [
    "# Try to add a list of integers and a string, if you get an error print out end program:\n",
    "try:\n",
    "    sales + 'A string of characters.'\n",
    "except Exception as e:\n",
    "    print('Oh No! We have an Error:', e)\n",
    "finally:\n",
    "    print('End Program')"
   ]
  },
  {
   "source": [
    "### TRY SOMETHING THAT WORKS"
   ],
   "cell_type": "markdown",
   "metadata": {}
  },
  {
   "cell_type": "code",
   "execution_count": 6,
   "metadata": {
    "tags": []
   },
   "outputs": [
    {
     "output_type": "stream",
     "name": "stdout",
     "text": "Wow! Its Worked! [6212, 717, 8216, 9218, 4520, 7856, 4312]\nEnd program\n"
    }
   ],
   "source": [
    "\n",
    "# Try to print sales, print out the result & end program, if you get an error, print out error & end program:\n",
    "try:\n",
    "    print('Wow! It''s Worked!', sales)\n",
    "# If you get an error, set the error as 'e',\n",
    "except Exception as e:\n",
    "    print('Error:', e)\n",
    "finally:\n",
    "    print('End program')\n"
   ]
  },
  {
   "cell_type": "code",
   "execution_count": null,
   "metadata": {},
   "outputs": [],
   "source": []
  }
 ]
}
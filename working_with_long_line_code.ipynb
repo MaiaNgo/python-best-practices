{
 "metadata": {
  "language_info": {
   "codemirror_mode": {
    "name": "ipython",
    "version": 3
   },
   "file_extension": ".py",
   "mimetype": "text/x-python",
   "name": "python",
   "nbconvert_exporter": "python",
   "pygments_lexer": "ipython3",
   "version": "3.6.6-final"
  },
  "orig_nbformat": 2,
  "kernelspec": {
   "name": "Python 3.6.6 64-bit ('learn-env': conda)",
   "display_name": "Python 3.6.6 64-bit ('learn-env': conda)",
   "metadata": {
    "interpreter": {
     "hash": "b9630d5e2ab3b0a71086734c5496348dcf699cc0359da5160f16a256dcc49ceb"
    }
   }
  }
 },
 "nbformat": 4,
 "nbformat_minor": 2,
 "cells": [
  {
   "source": [
    "# WORKING WITH LONG LINE OF CODE"
   ],
   "cell_type": "markdown",
   "metadata": {}
  },
  {
   "cell_type": "code",
   "execution_count": 15,
   "metadata": {},
   "outputs": [],
   "source": [
    "#Import needed library\n",
    "import statistics"
   ]
  },
  {
   "cell_type": "code",
   "execution_count": 16,
   "metadata": {
    "tags": []
   },
   "outputs": [
    {
     "output_type": "stream",
     "name": "stdout",
     "text": "[2.8, 4.5, 3.6, 1.9, 8.25, 3, 15, 7.25, 9.45, 5.35, 11.25, 4.75, 6.5]\n[12, 32, 51, 62, 23, 19, 31, 27, 45, 29, 53, 61]\n"
    }
   ],
   "source": [
    "products_promotion_price = [2.8, 4.5, 3.6, 1.9, 8.25, 3,15, 7.25, 9.45, 5.35, 11.25, 4.75, 6.5]; print(products_promotion_price)\n",
    "number_of_products = [12, 32, 51, 62, 23, 19, 31, 27, 45, 29, 53, 61]; print(number_of_products)\n"
   ]
  },
  {
   "source": [
    "### LONG LINE OF CODE"
   ],
   "cell_type": "markdown",
   "metadata": {}
  },
  {
   "cell_type": "code",
   "execution_count": 17,
   "metadata": {},
   "outputs": [
    {
     "output_type": "execute_result",
     "data": {
      "text/plain": "[33.599999999999994,\n 144.0,\n 183.6,\n 117.8,\n 189.75,\n 57,\n 465,\n 195.75,\n 425.24999999999994,\n 155.14999999999998,\n 596.25,\n 289.75]"
     },
     "metadata": {},
     "execution_count": 17
    }
   ],
   "source": [
    "sales_promotion_price = [element_in_products_promotion_price * element_in_number_of_products for element_in_products_promotion_price, element_in_number_of_products in zip(products_promotion_price, number_of_products)]\n",
    "sales_promotion_price"
   ]
  },
  {
   "source": [
    "### SHORTEN LONG LINE OF CODE:\n",
    "* We can use \\ to break up lines of code\n",
    "* We can make our code simplier or easier to read by taking advantage of the fact that line breaks are ignored inside (), {} and []. Using comments to explain the lines of code."
   ],
   "cell_type": "markdown",
   "metadata": {}
  },
  {
   "cell_type": "code",
   "execution_count": 18,
   "metadata": {},
   "outputs": [
    {
     "output_type": "execute_result",
     "data": {
      "text/plain": "[33.599999999999994,\n 144.0,\n 183.6,\n 117.8,\n 189.75,\n 57,\n 465,\n 195.75,\n 425.24999999999994,\n 155.14999999999998,\n 596.25,\n 289.75]"
     },
     "metadata": {},
     "execution_count": 18
    }
   ],
   "source": [
    "sales_promotion_price = [# multiple the first list's elements accordingly by second list's element\n",
    "                           element_in_products_promotion_price * element_in_number_of_products\n",
    "                           # for the first list's elements and second list's element \n",
    "                           for element_in_products_promotion_price, element_in_number_of_products\n",
    "                           # for each element in a zip between the products promotion price\n",
    "                           in zip(products_promotion_price,\n",
    "                                  # and the number of products\n",
    "                                   number_of_products)\n",
    "                          ]\n",
    "sales_promotion_price"
   ]
  },
  {
   "cell_type": "code",
   "execution_count": null,
   "metadata": {},
   "outputs": [],
   "source": []
  }
 ]
}
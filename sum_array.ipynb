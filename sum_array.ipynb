{
 "metadata": {
  "language_info": {
   "codemirror_mode": {
    "name": "ipython",
    "version": 3
   },
   "file_extension": ".py",
   "mimetype": "text/x-python",
   "name": "python",
   "nbconvert_exporter": "python",
   "pygments_lexer": "ipython3",
   "version": "3.6.6-final"
  },
  "orig_nbformat": 2,
  "kernelspec": {
   "name": "Python 3.6.6 64-bit ('learn-env': conda)",
   "display_name": "Python 3.6.6 64-bit ('learn-env': conda)",
   "metadata": {
    "interpreter": {
     "hash": "b9630d5e2ab3b0a71086734c5496348dcf699cc0359da5160f16a256dcc49ceb"
    }
   }
  }
 },
 "nbformat": 4,
 "nbformat_minor": 2,
 "cells": [
  {
   "cell_type": "code",
   "execution_count": null,
   "metadata": {},
   "outputs": [],
   "source": []
  },
  {
   "source": [
    "Given an array of integers, find the sum of its elements.\n",
    "\n",
    "For example, if the array , , so return .\n",
    "\n",
    "Function Description\n",
    "Complete the simpleArraySum function in the editor below. It must return the sum of the array elements as an integer.\n",
    "\n",
    "simpleArraySum has the following parameter(s):\n",
    "\n",
    "ar: an array of integers\n",
    "\n",
    "Input Format\n",
    "\n",
    "The first line contains an integer, , denoting the size of the array. \n",
    "\n",
    "The second line contains  space-separated integers representing the array's elements.\n",
    "\n",
    "Constraints\n",
    "\n",
    "Output Format\n",
    "\n",
    "Print the sum of the array's elements as a single integer.\n",
    "\n",
    "Sample Input\n",
    "\n",
    "6\n",
    "\n",
    "1 2 3 4 10 11\n",
    "\n",
    "Sample Output\n",
    "\n",
    "31\n",
    "\n",
    "Explanation\n",
    "\n",
    "We print the sum of the array's elements: ."
   ],
   "cell_type": "markdown",
   "metadata": {}
  },
  {
   "cell_type": "code",
   "execution_count": 31,
   "metadata": {},
   "outputs": [],
   "source": [
    "def simpleArraySum(ar):\n",
    "    return sum(ar)"
   ]
  },
  {
   "cell_type": "code",
   "execution_count": 32,
   "metadata": {
    "tags": []
   },
   "outputs": [
    {
     "output_type": "stream",
     "name": "stdout",
     "text": "15\n"
    }
   ],
   "source": [
    "ar = [1, 2, 3, 4, 5]\n",
    "result = simpleArraySum(ar)\n",
    "print(result)"
   ]
  },
  {
   "cell_type": "code",
   "execution_count": null,
   "metadata": {},
   "outputs": [],
   "source": []
  }
 ]
}
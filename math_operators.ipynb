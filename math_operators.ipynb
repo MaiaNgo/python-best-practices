{
 "metadata": {
  "language_info": {
   "codemirror_mode": {
    "name": "ipython",
    "version": 3
   },
   "file_extension": ".py",
   "mimetype": "text/x-python",
   "name": "python",
   "nbconvert_exporter": "python",
   "pygments_lexer": "ipython3",
   "version": "3.6.6-final"
  },
  "orig_nbformat": 2,
  "kernelspec": {
   "name": "Python 3.6.6 64-bit ('learn-env': conda)",
   "display_name": "Python 3.6.6 64-bit ('learn-env': conda)",
   "metadata": {
    "interpreter": {
     "hash": "b9630d5e2ab3b0a71086734c5496348dcf699cc0359da5160f16a256dcc49ceb"
    }
   }
  }
 },
 "nbformat": 4,
 "nbformat_minor": 2,
 "cells": [
  {
   "source": [
    "# Mathematical Operations:"
   ],
   "cell_type": "markdown",
   "metadata": {}
  },
  {
   "source": [
    "### Import math package:"
   ],
   "cell_type": "markdown",
   "metadata": {}
  },
  {
   "cell_type": "code",
   "execution_count": 1,
   "metadata": {},
   "outputs": [],
   "source": [
    "import math"
   ]
  },
  {
   "cell_type": "code",
   "execution_count": 4,
   "metadata": {
    "tags": []
   },
   "outputs": [
    {
     "output_type": "stream",
     "name": "stdout",
     "text": "3.141592653589793\n2.718281828459045\n"
    }
   ],
   "source": [
    "print(math.pi)\n",
    "print(math.e)"
   ]
  },
  {
   "cell_type": "code",
   "execution_count": 5,
   "metadata": {
    "tags": []
   },
   "outputs": [
    {
     "output_type": "stream",
     "name": "stdout",
     "text": "0.8509035245341184\n1.6197751905438615\n0.5253219888177297\n"
    }
   ],
   "source": [
    "print(math.sin(45))\n",
    "print(math.tan(45))\n",
    "print(math.cos(45))"
   ]
  },
  {
   "source": [
    "### Exponent:"
   ],
   "cell_type": "markdown",
   "metadata": {}
  },
  {
   "cell_type": "code",
   "execution_count": 6,
   "metadata": {
    "tags": []
   },
   "outputs": [
    {
     "output_type": "stream",
     "name": "stdout",
     "text": "9\n9\n"
    }
   ],
   "source": [
    "print(3**2)\n",
    "print(pow(3,2))"
   ]
  },
  {
   "source": [
    "### Absolute Value:\n"
   ],
   "cell_type": "markdown",
   "metadata": {}
  },
  {
   "cell_type": "code",
   "execution_count": 7,
   "metadata": {},
   "outputs": [
    {
     "output_type": "execute_result",
     "data": {
      "text/plain": "19"
     },
     "metadata": {},
     "execution_count": 7
    }
   ],
   "source": [
    "abs(-19)"
   ]
  },
  {
   "source": [
    "### Sum, Min, Max:"
   ],
   "cell_type": "markdown",
   "metadata": {}
  },
  {
   "cell_type": "code",
   "execution_count": 9,
   "metadata": {
    "tags": []
   },
   "outputs": [
    {
     "output_type": "stream",
     "name": "stdout",
     "text": "21\n1\n6\n"
    }
   ],
   "source": [
    "print(sum((1, 2, 3, 4, 5, 6)))\n",
    "print(min(1, 2, 3, 4, 5, 6))\n",
    "print(max(1, 2, 3, 4, 5, 6))"
   ]
  },
  {
   "source": [
    "### Round a number:"
   ],
   "cell_type": "markdown",
   "metadata": {}
  },
  {
   "cell_type": "code",
   "execution_count": 14,
   "metadata": {
    "tags": []
   },
   "outputs": [
    {
     "output_type": "stream",
     "name": "stdout",
     "text": "4\n5\n5 4\n4.65\n"
    }
   ],
   "source": [
    "print(math.floor(4.65356))\n",
    "print(math.ceil(4.65356))\n",
    "print(round(4.65356), round(4.2345))\n",
    "print(round(4.65356, 2))"
   ]
  },
  {
   "cell_type": "code",
   "execution_count": 13,
   "metadata": {
    "tags": []
   },
   "outputs": [
    {
     "output_type": "stream",
     "name": "stdout",
     "text": "3\n3\n"
    }
   ],
   "source": [
    "print(math.trunc(3.8746))\n",
    "print(int(3.8746))"
   ]
  },
  {
   "cell_type": "code",
   "execution_count": null,
   "metadata": {},
   "outputs": [],
   "source": []
  }
 ]
}